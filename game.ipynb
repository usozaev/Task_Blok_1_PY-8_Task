{
 "cells": [
  {
   "cell_type": "markdown",
   "metadata": {},
   "source": [
    "# Игра угадай число"
   ]
  },
  {
   "cell_type": "code",
   "execution_count": 3,
   "metadata": {},
   "outputs": [
    {
     "name": "stdout",
     "output_type": "stream",
     "text": [
      "[25, 26, 27, 28, 29, 30, 31, 32, 33, 34, 35, 36, 37, 38, 39, 40, 41, 42, 43, 44, 45, 46, 47, 48, 49]\n"
     ]
    }
   ],
   "source": [
    "from game_v2 import score_game\n",
    "from game_v2 import random_predict"
   ]
  },
  {
   "cell_type": "markdown",
   "metadata": {},
   "source": [
    "## Угадываем рандомно"
   ]
  },
  {
   "cell_type": "code",
   "execution_count": 6,
   "metadata": {},
   "outputs": [
    {
     "name": "stdout",
     "output_type": "stream",
     "text": [
      "Ваш алгоритм угадывает число в среднем за:100 попыток\n"
     ]
    },
    {
     "data": {
      "text/plain": [
       "100"
      ]
     },
     "execution_count": 6,
     "metadata": {},
     "output_type": "execute_result"
    }
   ],
   "source": [
    "score_game(random_predict)"
   ]
  },
  {
   "cell_type": "code",
   "execution_count": 64,
   "metadata": {},
   "outputs": [
    {
     "name": "stdout",
     "output_type": "stream",
     "text": [
      "15 39 75\n"
     ]
    },
    {
     "data": {
      "text/plain": [
       "15"
      ]
     },
     "execution_count": 64,
     "metadata": {},
     "output_type": "execute_result"
    }
   ],
   "source": [
    "def game_core_v3(number: int = 1) -> int:\n",
    "    \"\"\"\n",
    "    Args:\n",
    "        number (int, optional): Загаданное число. Defaults to 1.\n",
    "\n",
    "    Returns:\n",
    "        int: Число попыток\n",
    "    \"\"\"\n",
    "    # Ваш код начинается здесь       2, 26, 50, 75, 100\n",
    "    count = 0\n",
    "    predict = 0\n",
    "    predict_zero = 0\n",
    "    cache_number = 0\n",
    "    info_range = 0\n",
    "    info_list = []\n",
    "    while True:     #Определяем квартель, в которм число\n",
    "        if count == 0:\n",
    "            predict = 50\n",
    "            count = count+1\n",
    "            if predict == number:\n",
    "                break\n",
    "        elif predict > number and count < 4:\n",
    "            predict_zero = predict\n",
    "            predict = predict - 24\n",
    "            count = count + 1\n",
    "            if predict == number:\n",
    "                break\n",
    "        elif predict < number and count <= 3:\n",
    "            predict_zero = predict\n",
    "            predict = predict + 25\n",
    "            count = count + 1\n",
    "            if predict == number:\n",
    "                break\n",
    "        if count > 3:\n",
    "            print(count, predict, predict_zero)\n",
    "            break\n",
    "                \n",
    "\n",
    "        #определяем число \n",
    "            \n",
    "    if predict_zero > predict: #Если число меньше 50\n",
    "            info_range = predict + abs(predict_zero - predict)//2\n",
    "    if predict_zero < predict:\n",
    "            info_range = predict_zero + abs(predict - predict_zero)//2\n",
    "    for i in range(abs((predict - predict_zero)//2)):\n",
    "        if info_range < number:\n",
    "            predict == info_range\n",
    "            predict = predict + 1\n",
    "            count = count + 1\n",
    "        if info_range > number:\n",
    "            predict == info_range\n",
    "            predict = predict - 1\n",
    "            count = count + 1\n",
    "        if predict == number:\n",
    "            break\n",
    "\n",
    "     # Ваш код заканчивается здес\n",
    "    print(count, predict, predict_zero)\n",
    "    return count\n",
    "game_core_v3(51)"
   ]
  }
 ],
 "metadata": {
  "kernelspec": {
   "display_name": "Python 3",
   "language": "python",
   "name": "python3"
  },
  "language_info": {
   "codemirror_mode": {
    "name": "ipython",
    "version": 3
   },
   "file_extension": ".py",
   "mimetype": "text/x-python",
   "name": "python",
   "nbconvert_exporter": "python",
   "pygments_lexer": "ipython3",
   "version": "3.9.10"
  },
  "orig_nbformat": 4
 },
 "nbformat": 4,
 "nbformat_minor": 2
}
